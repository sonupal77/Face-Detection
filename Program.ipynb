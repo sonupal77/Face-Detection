{
 "cells": [
  {
   "cell_type": "code",
   "execution_count": 6,
   "metadata": {},
   "outputs": [],
   "source": [
    "import cv2\n",
    "\n",
    "img = cv2.imread('E:\\Anaconda\\AI Projects\\Face Detection/Fraunhofer-face-recognition.jpg')\n",
    "\n",
    "face_clsfr = cv2.CascadeClassifier('E:\\Anaconda\\AI Projects\\Face Detection\\haarcascade_frontalface_default.xml')\n",
    "\n",
    "gray = cv2.cvtColor(img,cv2.COLOR_BGR2GRAY)\n",
    "\n",
    "faces = face_clsfr.detectMultiScale(gray)\n",
    "#results = model.predict(gray)\n",
    "\n",
    "for x,y,w,h in faces:\n",
    "#     x=face[0]\n",
    "#     y=face[1]\n",
    "#     w=face[2]\n",
    "#     h=face[3]\n",
    "    cv2.rectangle(img,(x,y),(x+w,y+h),(0,255,0),2)\n",
    "    \n",
    "cv2.imshow('img',img)\n",
    "cv2.waitKey(0)\n",
    "cv2.destroyAllWindows()"
   ]
  },
  {
   "cell_type": "code",
   "execution_count": null,
   "metadata": {},
   "outputs": [],
   "source": []
  }
 ],
 "metadata": {
  "kernelspec": {
   "display_name": "Python 3",
   "language": "python",
   "name": "python3"
  },
  "language_info": {
   "codemirror_mode": {
    "name": "ipython",
    "version": 3
   },
   "file_extension": ".py",
   "mimetype": "text/x-python",
   "name": "python",
   "nbconvert_exporter": "python",
   "pygments_lexer": "ipython3",
   "version": "3.8.3"
  }
 },
 "nbformat": 4,
 "nbformat_minor": 4
}
